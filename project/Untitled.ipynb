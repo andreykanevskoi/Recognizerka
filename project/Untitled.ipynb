{
 "cells": [
  {
   "cell_type": "code",
   "execution_count": 72,
   "metadata": {},
   "outputs": [],
   "source": [
    "from __future__ import absolute_import, division, print_function, unicode_literals\n",
    "from tensorflow.keras import layers\n",
    "from tensorflow import keras\n",
    "\n",
    "import numpy as np\n",
    "import tensorflow as tf\n",
    "import PIL\n",
    "\n",
    "def getFlatArrayFromImage(path):\n",
    "  img = PIL.Image.open(path).convert('L')\n",
    "  arr = np.array(img)\n",
    "\n",
    "  flat_arr = arr.ravel()\n",
    "  return flat_arr\n",
    "\n",
    "path = '/home/andrew/Recognizerka/fonts/png32_rotated.npz'\n",
    "with np.load(path) as data:\n",
    "    train_examples = data['x_train']\n",
    "    train_labels = data['y_train']\n",
    "    test_examples = data['x_test']\n",
    "    test_labels = data['y_test']"
   ]
  },
  {
   "cell_type": "code",
   "execution_count": 73,
   "metadata": {},
   "outputs": [],
   "source": [
    "model = tf.keras.models.Sequential([\n",
    "#     tf.keras.layers.Conv2D(2, (2, 2), activation='relu', input_shape=(32, 32, 1)),\n",
    "#     tf.keras.layers.MaxPooling2D(2, 2),\n",
    "    \n",
    "    tf.keras.layers.Conv2D(8, (3, 3), activation='relu', input_shape=(32, 32, 1)),\n",
    "    tf.keras.layers.MaxPooling2D(pool_size=(2, 2)),\n",
    "\n",
    "    tf.keras.layers.Conv2D(8, (4, 4), activation='relu', input_shape=(32, 32, 1)),\n",
    "    tf.keras.layers.MaxPooling2D(pool_size=(2, 2)),\n",
    "    \n",
    "    tf.keras.layers.Flatten(),\n",
    "    tf.keras.layers.Dense(256, activation='relu'),\n",
    "    tf.keras.layers.Dense(66, activation='softmax')\n",
    "])\n"
   ]
  },
  {
   "cell_type": "code",
   "execution_count": 74,
   "metadata": {},
   "outputs": [],
   "source": [
    "x_train = train_examples\n",
    "\n",
    "new_y_labels = np.zeros(8910)\n",
    "for i in range(8910):\n",
    "    new_y_labels[i], = np.where(train_labels[i] == 1)\n",
    "\n",
    "y_train = new_y_labels\n",
    "\n",
    "x_test = test_examples\n",
    "\n",
    "new_y_labels = np.zeros(1782)\n",
    "for i in range(1782):\n",
    "    new_y_labels[i], = np.where(test_labels[i] == 1)\n",
    "\n",
    "y_test = new_y_labels"
   ]
  },
  {
   "cell_type": "code",
   "execution_count": 75,
   "metadata": {},
   "outputs": [],
   "source": [
    "# Preprocess the data (these are Numpy arrays)\n",
    "x_train = x_train.reshape(8910, 32, 32, 1).astype('float32') / 255\n",
    "x_test = x_test.reshape(1782, 32, 32, 1).astype('float32') / 255\n",
    "\n",
    "y_train = y_train.astype('float32')\n",
    "y_test = y_test.astype('float32')\n",
    "\n",
    "# Reserve 10,000 samples for validation\n",
    "x_val = x_train[-1782:]\n",
    "y_val = y_train[-1782:]\n",
    "x_train = x_train[:-1782]\n",
    "y_train = y_train[:-1782]\n",
    "\n",
    "model.compile(optimizer='adam',  # Optimizer\n",
    "              # Loss function to minimize\n",
    "              loss=keras.losses.SparseCategoricalCrossentropy(\n",
    "                  from_logits=True),\n",
    "              # List of metrics to monitor\n",
    "              metrics=['sparse_categorical_accuracy'])"
   ]
  },
  {
   "cell_type": "code",
   "execution_count": 78,
   "metadata": {},
   "outputs": [
    {
     "name": "stdout",
     "output_type": "stream",
     "text": [
      "# Fit model on training data\n",
      "Train on 7128 samples, validate on 1782 samples\n",
      "Epoch 1/30\n",
      "7128/7128 [==============================] - 2s 268us/sample - loss: 3.6132 - sparse_categorical_accuracy: 0.6027 - val_loss: 3.9892 - val_sparse_categorical_accuracy: 0.2301\n",
      "Epoch 2/30\n",
      "7128/7128 [==============================] - 2s 238us/sample - loss: 3.6068 - sparse_categorical_accuracy: 0.6076 - val_loss: 3.9796 - val_sparse_categorical_accuracy: 0.2357\n",
      "Epoch 3/30\n",
      "7128/7128 [==============================] - 2s 244us/sample - loss: 3.6042 - sparse_categorical_accuracy: 0.6098 - val_loss: 3.9864 - val_sparse_categorical_accuracy: 0.2256\n",
      "Epoch 4/30\n",
      "7128/7128 [==============================] - 2s 242us/sample - loss: 3.6040 - sparse_categorical_accuracy: 0.6098 - val_loss: 3.9832 - val_sparse_categorical_accuracy: 0.2312\n",
      "Epoch 5/30\n",
      "7128/7128 [==============================] - 2s 242us/sample - loss: 3.6039 - sparse_categorical_accuracy: 0.6098 - val_loss: 3.9794 - val_sparse_categorical_accuracy: 0.2374\n",
      "Epoch 6/30\n",
      "7128/7128 [==============================] - 2s 260us/sample - loss: 3.6022 - sparse_categorical_accuracy: 0.6118 - val_loss: 3.9873 - val_sparse_categorical_accuracy: 0.2346\n",
      "Epoch 7/30\n",
      "7128/7128 [==============================] - 2s 245us/sample - loss: 3.5850 - sparse_categorical_accuracy: 0.6296 - val_loss: 3.9908 - val_sparse_categorical_accuracy: 0.2194\n",
      "Epoch 8/30\n",
      "7128/7128 [==============================] - 2s 272us/sample - loss: 3.5813 - sparse_categorical_accuracy: 0.6326 - val_loss: 3.9801 - val_sparse_categorical_accuracy: 0.2334\n",
      "Epoch 9/30\n",
      "7128/7128 [==============================] - 2s 244us/sample - loss: 3.5811 - sparse_categorical_accuracy: 0.6326 - val_loss: 3.9812 - val_sparse_categorical_accuracy: 0.2301\n",
      "Epoch 10/30\n",
      "7128/7128 [==============================] - 2s 244us/sample - loss: 3.5810 - sparse_categorical_accuracy: 0.6326 - val_loss: 3.9812 - val_sparse_categorical_accuracy: 0.2267\n",
      "Epoch 11/30\n",
      "7128/7128 [==============================] - 2s 248us/sample - loss: 3.5809 - sparse_categorical_accuracy: 0.6326 - val_loss: 3.9811 - val_sparse_categorical_accuracy: 0.2340\n",
      "Epoch 12/30\n",
      "7128/7128 [==============================] - 2s 250us/sample - loss: 3.5809 - sparse_categorical_accuracy: 0.6326 - val_loss: 3.9820 - val_sparse_categorical_accuracy: 0.2334\n",
      "Epoch 13/30\n",
      "7128/7128 [==============================] - 2s 247us/sample - loss: 3.5808 - sparse_categorical_accuracy: 0.6326 - val_loss: 3.9832 - val_sparse_categorical_accuracy: 0.2340\n",
      "Epoch 14/30\n",
      "7128/7128 [==============================] - 2s 251us/sample - loss: 3.5808 - sparse_categorical_accuracy: 0.6326 - val_loss: 3.9835 - val_sparse_categorical_accuracy: 0.2301\n",
      "Epoch 15/30\n",
      "3712/7128 [==============>...............] - ETA: 0s - loss: 3.5708 - sparse_categorical_accuracy: 0.6425"
     ]
    },
    {
     "ename": "KeyboardInterrupt",
     "evalue": "",
     "output_type": "error",
     "traceback": [
      "\u001b[0;31m---------------------------------------------------------------------------\u001b[0m",
      "\u001b[0;31mKeyboardInterrupt\u001b[0m                         Traceback (most recent call last)",
      "\u001b[0;32m<ipython-input-78-32089c34b8cf>\u001b[0m in \u001b[0;36m<module>\u001b[0;34m\u001b[0m\n\u001b[1;32m      4\u001b[0m                     \u001b[0mepochs\u001b[0m\u001b[0;34m=\u001b[0m\u001b[0;36m30\u001b[0m\u001b[0;34m,\u001b[0m\u001b[0;34m\u001b[0m\u001b[0;34m\u001b[0m\u001b[0m\n\u001b[1;32m      5\u001b[0m                     \u001b[0mshuffle\u001b[0m\u001b[0;34m=\u001b[0m\u001b[0;32mTrue\u001b[0m\u001b[0;34m,\u001b[0m\u001b[0;34m\u001b[0m\u001b[0;34m\u001b[0m\u001b[0m\n\u001b[0;32m----> 6\u001b[0;31m                     validation_data=(x_val, y_val))\n\u001b[0m",
      "\u001b[0;32m~/.local/lib/python3.6/site-packages/tensorflow/python/keras/engine/training.py\u001b[0m in \u001b[0;36mfit\u001b[0;34m(self, x, y, batch_size, epochs, verbose, callbacks, validation_split, validation_data, shuffle, class_weight, sample_weight, initial_epoch, steps_per_epoch, validation_steps, validation_freq, max_queue_size, workers, use_multiprocessing, **kwargs)\u001b[0m\n\u001b[1;32m    778\u001b[0m           \u001b[0mvalidation_steps\u001b[0m\u001b[0;34m=\u001b[0m\u001b[0mvalidation_steps\u001b[0m\u001b[0;34m,\u001b[0m\u001b[0;34m\u001b[0m\u001b[0;34m\u001b[0m\u001b[0m\n\u001b[1;32m    779\u001b[0m           \u001b[0mvalidation_freq\u001b[0m\u001b[0;34m=\u001b[0m\u001b[0mvalidation_freq\u001b[0m\u001b[0;34m,\u001b[0m\u001b[0;34m\u001b[0m\u001b[0;34m\u001b[0m\u001b[0m\n\u001b[0;32m--> 780\u001b[0;31m           steps_name='steps_per_epoch')\n\u001b[0m\u001b[1;32m    781\u001b[0m \u001b[0;34m\u001b[0m\u001b[0m\n\u001b[1;32m    782\u001b[0m   def evaluate(self,\n",
      "\u001b[0;32m~/.local/lib/python3.6/site-packages/tensorflow/python/keras/engine/training_arrays.py\u001b[0m in \u001b[0;36mmodel_iteration\u001b[0;34m(model, inputs, targets, sample_weights, batch_size, epochs, verbose, callbacks, val_inputs, val_targets, val_sample_weights, shuffle, initial_epoch, steps_per_epoch, validation_steps, validation_freq, mode, validation_in_fit, prepared_feed_values_from_dataset, steps_name, **kwargs)\u001b[0m\n\u001b[1;32m    361\u001b[0m \u001b[0;34m\u001b[0m\u001b[0m\n\u001b[1;32m    362\u001b[0m         \u001b[0;31m# Get outputs.\u001b[0m\u001b[0;34m\u001b[0m\u001b[0;34m\u001b[0m\u001b[0;34m\u001b[0m\u001b[0m\n\u001b[0;32m--> 363\u001b[0;31m         \u001b[0mbatch_outs\u001b[0m \u001b[0;34m=\u001b[0m \u001b[0mf\u001b[0m\u001b[0;34m(\u001b[0m\u001b[0mins_batch\u001b[0m\u001b[0;34m)\u001b[0m\u001b[0;34m\u001b[0m\u001b[0;34m\u001b[0m\u001b[0m\n\u001b[0m\u001b[1;32m    364\u001b[0m         \u001b[0;32mif\u001b[0m \u001b[0;32mnot\u001b[0m \u001b[0misinstance\u001b[0m\u001b[0;34m(\u001b[0m\u001b[0mbatch_outs\u001b[0m\u001b[0;34m,\u001b[0m \u001b[0mlist\u001b[0m\u001b[0;34m)\u001b[0m\u001b[0;34m:\u001b[0m\u001b[0;34m\u001b[0m\u001b[0;34m\u001b[0m\u001b[0m\n\u001b[1;32m    365\u001b[0m           \u001b[0mbatch_outs\u001b[0m \u001b[0;34m=\u001b[0m \u001b[0;34m[\u001b[0m\u001b[0mbatch_outs\u001b[0m\u001b[0;34m]\u001b[0m\u001b[0;34m\u001b[0m\u001b[0;34m\u001b[0m\u001b[0m\n",
      "\u001b[0;32m~/.local/lib/python3.6/site-packages/tensorflow/python/keras/backend.py\u001b[0m in \u001b[0;36m__call__\u001b[0;34m(self, inputs)\u001b[0m\n\u001b[1;32m   3290\u001b[0m \u001b[0;34m\u001b[0m\u001b[0m\n\u001b[1;32m   3291\u001b[0m     fetched = self._callable_fn(*array_vals,\n\u001b[0;32m-> 3292\u001b[0;31m                                 run_metadata=self.run_metadata)\n\u001b[0m\u001b[1;32m   3293\u001b[0m     \u001b[0mself\u001b[0m\u001b[0;34m.\u001b[0m\u001b[0m_call_fetch_callbacks\u001b[0m\u001b[0;34m(\u001b[0m\u001b[0mfetched\u001b[0m\u001b[0;34m[\u001b[0m\u001b[0;34m-\u001b[0m\u001b[0mlen\u001b[0m\u001b[0;34m(\u001b[0m\u001b[0mself\u001b[0m\u001b[0;34m.\u001b[0m\u001b[0m_fetches\u001b[0m\u001b[0;34m)\u001b[0m\u001b[0;34m:\u001b[0m\u001b[0;34m]\u001b[0m\u001b[0;34m)\u001b[0m\u001b[0;34m\u001b[0m\u001b[0;34m\u001b[0m\u001b[0m\n\u001b[1;32m   3294\u001b[0m     output_structure = nest.pack_sequence_as(\n",
      "\u001b[0;32m~/.local/lib/python3.6/site-packages/tensorflow/python/client/session.py\u001b[0m in \u001b[0;36m__call__\u001b[0;34m(self, *args, **kwargs)\u001b[0m\n\u001b[1;32m   1456\u001b[0m         ret = tf_session.TF_SessionRunCallable(self._session._session,\n\u001b[1;32m   1457\u001b[0m                                                \u001b[0mself\u001b[0m\u001b[0;34m.\u001b[0m\u001b[0m_handle\u001b[0m\u001b[0;34m,\u001b[0m \u001b[0margs\u001b[0m\u001b[0;34m,\u001b[0m\u001b[0;34m\u001b[0m\u001b[0;34m\u001b[0m\u001b[0m\n\u001b[0;32m-> 1458\u001b[0;31m                                                run_metadata_ptr)\n\u001b[0m\u001b[1;32m   1459\u001b[0m         \u001b[0;32mif\u001b[0m \u001b[0mrun_metadata\u001b[0m\u001b[0;34m:\u001b[0m\u001b[0;34m\u001b[0m\u001b[0;34m\u001b[0m\u001b[0m\n\u001b[1;32m   1460\u001b[0m           \u001b[0mproto_data\u001b[0m \u001b[0;34m=\u001b[0m \u001b[0mtf_session\u001b[0m\u001b[0;34m.\u001b[0m\u001b[0mTF_GetBuffer\u001b[0m\u001b[0;34m(\u001b[0m\u001b[0mrun_metadata_ptr\u001b[0m\u001b[0;34m)\u001b[0m\u001b[0;34m\u001b[0m\u001b[0;34m\u001b[0m\u001b[0m\n",
      "\u001b[0;31mKeyboardInterrupt\u001b[0m: "
     ]
    }
   ],
   "source": [
    "print('# Fit model on training data')\n",
    "history = model.fit(x_train, y_train,\n",
    "                    batch_size=128,\n",
    "                    epochs=30,\n",
    "                    shuffle=True,\n",
    "                    validation_data=(x_val, y_val))"
   ]
  },
  {
   "cell_type": "code",
   "execution_count": null,
   "metadata": {},
   "outputs": [],
   "source": [
    "print('\\nhistory dict:', history.history)"
   ]
  },
  {
   "cell_type": "code",
   "execution_count": null,
   "metadata": {},
   "outputs": [],
   "source": [
    "# Evaluate the model on the test data using `evaluate`\n",
    "print('\\n# Evaluate on test data')\n",
    "results = model.evaluate(x_test, y_test, batch_size=64)\n",
    "print('test loss, test acc:', results)"
   ]
  },
  {
   "cell_type": "code",
   "execution_count": null,
   "metadata": {},
   "outputs": [],
   "source": [
    "# create seporate test set\n",
    "files = [\n",
    "    '18847_l_6.png',\n",
    "    '19046_u_9.png',\n",
    "    '19051_l_0.png',\n",
    "    '19081_l_0.png',\n",
    "    '19081_u_17.png'\n",
    "]\n",
    "path_to_files = \"/home/andrew/Recognizerka/fonts/png_32_32/\"\n",
    "\n",
    "flen = len(files)\n",
    "my_test_x = np.zeros( (flen, 32, 32, 1) )\n",
    "print(my_test_x.shape)\n",
    "k = 0\n",
    "for file in files:\n",
    "    my_test_x[k] = getFlatArrayFromImage(path_to_files+file).reshape(32, 32, 1)\n",
    "    k+=1\n",
    "\n",
    "# Generate predictions (probabilities -- the output of the last layer)\n",
    "# on new data using `predict`\n",
    "print('\\n# Generate predictions for 3 samples')\n",
    "predictions = model.predict(my_test_x)\n",
    "print('predictions shape:', predictions.shape)"
   ]
  },
  {
   "cell_type": "code",
   "execution_count": null,
   "metadata": {},
   "outputs": [],
   "source": [
    "def get_char_from_pred(prediction):\n",
    "    from draft import RUS_CHARS\n",
    "    return RUS_CHARS[np.argmax(prediction)].decode('utf-8')\n",
    "\n",
    "for pred in predictions:\n",
    "    print(get_char_from_pred(pred))"
   ]
  }
 ],
 "metadata": {
  "kernelspec": {
   "display_name": "Python 3",
   "language": "python",
   "name": "python3"
  },
  "language_info": {
   "codemirror_mode": {
    "name": "ipython",
    "version": 3
   },
   "file_extension": ".py",
   "mimetype": "text/x-python",
   "name": "python",
   "nbconvert_exporter": "python",
   "pygments_lexer": "ipython3",
   "version": "3.6.9"
  }
 },
 "nbformat": 4,
 "nbformat_minor": 2
}
